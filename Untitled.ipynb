{
 "cells": [
  {
   "cell_type": "code",
   "execution_count": 6,
   "id": "e4466938-bc25-4af6-afc7-409cc9c656ba",
   "metadata": {},
   "outputs": [],
   "source": [
    "x= [\"cln\", \"jtg\", \"bsl\", \"kfz\", \"vvg\", \"fdz\", \"gfc\", \"jgp\", \"rpn\", \"cdd\", \"fnl\", \"hnt\", \"rkq\", \"scp\", \"jph\", \"stx\", \"hdc\", \"dkc\", \"xkr\", \"lrm\", \"glp\", \"gcl\", \"kfc\", \"qxb\", \"jhh\", \"srn\", \"xfm\", \"snf\", \"fpg\", \"ckq\", \"shj\", \"bss\", \"pfs\", \"fbj\", \"xkk\", \"jft\", \"cst\", \"jpg\", \"dxm\", \"xsc\", \"glx\", \"hfx\", \"ssb\", \"qkm\", \"nfl\", \"kbp\", \"jvj\", \"rlr\", \"pxd\", \"qpz\", \"qzc\", \"fkl\", \"njv\", \"mpn\", \"fph\", \"thr\", \"qdv\", \"kqk\", \"lhn\", \"lmk\", \"hdk\", \"tms\", \"ght\", \"kqj\", \"ngn\", \"xrn\", \"rht\", \"rfz\", \"bzq\", \"qpv\", \"kjh\", \"dzv\", \"hqf\", \"rnh\", \"cgx\", \"jkm\", \"nqk\", \"kmh\", \"pkb\", \"rjd\", \"szg\", \"qlm\", \"dtm\", \"qhz\", \"lcf\", \"hnr\", \"hgp\", \"tbb\", \"fjc\", \"qtt\", \"tqf\", \"bnp\", \"lcm\", \"ghv\", \"jtd\", \"gcn\", \"ffr\", \"rqv\", \"stn\", \"vgq\", \"zgf\", \"pcv\", \"cfg\", \"qkc\", \"gvb\", \"rcd\", \"glz\", \"jkg\", \"bpq\", \"jzd\", \"mmk\", \"kgp\", \"tlq\", \"lfg\", \"qnm\", \"flp\", \"thh\", \"llp\", \"vhf\", \"vrf\", \"tkt\", \"qpr\", \"qtm\", \"lzr\", \"cpt\", \"jpt\", \"ddx\", \"hzc\", \"rlx\", \"fdn\", \"zqm\", \"sqr\", \"snj\", \"jtm\", \"dgz\", \"cnc\", \"xxf\", \"tmj\", \"zgg\", \"lbb\", \"dlb\", \"mmz\", \"hps\", \"pnb\", \"pzq\", \"qhs\", \"fxs\", \"xgv\", \"zkv\", \"cph\", \"ksf\", \"vds\", \"qss\", \"qvt\", \"ghx\", \"qtk\", \"pkj\", \"tjc\", \"jgs\", \"xrm\", \"lqh\", \"fzp\", \"bfj\", \"vzc\", \"hpn\", \"fvk\", \"phx\", \"cmz\", \"vqm\", \"nrb\", \"txb\", \"ngz\", \"lcp\", \"qhq\", \"jkb\", \"plm\", \"sbg\", \"jcv\", \"zhx\", \"vmt\", \"xvt\", \"rpx\", \"qdz\", \"xtb\", \"kbs\", \"cjg\", \"nln\", \"nmb\", \"bhn\", \"hbk\", \"cnr\", \"btk\", \"tlt\", \"lqp\", \"ltv\", \"kqh\", \"qkl\", \"zsg\", \"czv\", \"plp\", \"vrt\", \"cmm\", \"lff\", \"lqb\", \"npg\", \"lvt\", \"npm\", \"svt\", \"mng\", \"flq\", \"flk\", \"bkd\", \"vfk\", \"gsh\", \"fjm\", \"bht\", \"pct\", \"zcs\", \"blc\", \"gbl\", \"qbj\", \"dbl\", \"nzh\", \"sbp\", \"xcb\", \"tkr\", \"chm\", \"zks\", \"rpq\", \"tkx\", \"thd\", \"kmc\", \"gpg\", \"trr\", \"kng\", \"gft\", \"mhj\", \"kvk\", \"zkh\", \"mjj\", \"dlg\", \"fvm\", \"zcv\", \"gvs\", \"slg\", \"kll\", \"dhq\", \"qsn\", \"prd\", \"jdn\", \"qdx\", \"hhq\", \"psb\", \"vng\", \"tdg\", \"sck\", \"shf\", \"xzl\", \"vrx\", \"rnm\", \"njg\", \"qmp\", \"prl\", \"gpn\", \"jdp\", \"kld\", \"brz\", \"fvz\", \"kbr\", \"pdn\", \"lxq\", \"nkf\", \"qnz\", \"czr\", \"dbz\", \"nrr\", \"pnm\", \"dlp\", \"xcn\", \"vsq\", \"ncv\", \"kkg\", \"jln\", \"lhp\", \"zdk\", \"fxq\", \"rrl\", \"hjr\", \"qlv\", \"hbx\", \"xcs\", \"nll\", \"mhg\", \"szk\", \"bqs\", \"nvf\", \"jjf\", \"smf\", \"kcr\", \"qhl\", \"gvx\", \"fqj\", \"tzn\", \"qsx\", \"xmb\", \"fqr\", \"mgr\", \"nfk\", \"hnb\", \"txp\", \"dqc\", \"zhd\", \"bpm\", \"tmb\", \"rxv\", \"tns\", \"pqc\", \"mph\", \"sfm\", \"hxj\", \"bsk\", \"blf\", \"cpb\", \"ddh\", \"vxz\", \"fcv\", \"hfh\", \"xbk\", \"pqf\", \"zfm\", \"nxb\", \"tts\", \"cps\", \"tpc\", \"vxm\", \"bhc\", \"brx\", \"fsg\", \"cns\", \"tkl\", \"bcd\", \"qnl\", \"tsl\", \"hjz\", \"grj\", \"qng\", \"bbs\", \"xtq\", \"rqk\", \"cmt\", \"nxp\", \"pfp\", \"xff\", \"nfg\", \"vnb\", \"vph\", \"hdx\", \"gqb\", \"qsb\", \"nlx\", \"kzb\", \"cjc\", \"ddk\", \"pgk\", \"bmz\", \"bdj\", \"hgn\", \"qhr\", \"hfv\", \"qlx\", \"kdx\", \"xqv\", \"cxx\", \"pvg\", \"bqx\", \"fhh\", \"hgf\", \"htj\", \"rdc\", \"bgl\", \"mfc\", \"ttf\", \"dgx\", \"bln\", \"ncl\", \"pgg\", \"ggc\", \"jls\", \"nmp\", \"skl\", \"sqj\", \"brc\", \"mvf\", \"tct\", \"mjs\", \"lbx\", \"vkl\", \"tpj\", \"hff\", \"kpd\", \"mzr\", \"zmf\", \"lbc\", \"hrz\", \"tpb\", \"gkn\", \"bhv\", \"qpj\", \"ffj\", \"pcj\", \"zlf\", \"jxv\", \"lcs\", \"jsn\", \"dds\", \"rsx\", \"qxd\", \"vfv\", \"tkk\", \"rvl\", \"lgd\", \"rbc\", \"xqt\", \"qrp\", \"nff\", \"njq\", \"pqm\", \"gmx\", \"gbj\", \"dfd\", \"gsk\", \"kkx\", \"rbs\", \"nvm\", \"tdd\", \"jfp\", \"xxb\", \"bkp\", \"vhg\", \"bvx\", \"xjp\", \"fnm\", \"mtd\", \"fzq\", \"dfr\", \"mrc\", \"vrq\", \"shd\", \"zfs\", \"hhh\", \"xgm\", \"jvd\", \"zxb\", \"jbj\", \"pkc\", \"drp\", \"vmg\", \"rkv\", \"pgt\", \"bvb\", \"vfq\", \"rxs\", \"pdt\", \"fvv\", \"hbr\", \"kvv\", \"xlv\", \"jnr\", \"gkd\", \"bps\", \"fqq\", \"kkm\", \"cjk\", \"btv\", \"ttc\", \"plb\", \"cjs\", \"zqt\", \"bpz\", \"ljg\", \"vjc\", \"gbm\", \"xfc\", \"vbc\", \"csp\", \"tgd\", \"xzq\", \"mkl\", \"xrc\", \"krb\", \"nsp\", \"rvv\", \"kgs\", \"lcj\", \"xpr\", \"nbn\", \"dfk\", \"vmp\", \"vxb\", \"qrt\", \"ngr\", \"ksd\", \"vrs\", \"zxf\", \"dkm\", \"jxc\", \"mhp\", \"msg\", \"sdr\", \"nrt\", \"hdz\", \"rch\", \"rnk\", \"zrf\", \"rjc\", \"sjk\", \"pnf\", \"jxk\", \"mff\", \"plr\", \"tqc\", \"gnq\", \"zch\", \"knd\", \"xjx\", \"bck\", \"jxb\", \"hpd\", \"hvh\", \"zmt\", \"sjj\", \"khm\", \"jqj\", \"krp\", \"rvq\", \"jtr\", \"lfz\", \"kmz\", \"gnk\", \"rcg\", \"kfh\", \"vdt\", \"qns\", \"ffs\", \"rrx\", \"rmm\", \"zgr\", \"shc\", \"bbm\", \"khh\", \"nmg\", \"ctv\", \"rrz\", \"jsc\", \"dsz\", \"jkd\", \"dqx\", \"zzv\", \"zjv\", \"njn\", \"jrs\", \"zvf\", \"xcd\", \"lvp\", \"vzz\", \"gsr\", \"qcn\", \"cvq\", \"grc\", \"vfp\", \"sxq\", \"tck\", \"sfg\", \"fjq\", \"cgv\", \"qqj\", \"brl\", \"ljj\", \"rrg\", \"fqp\", \"hfs\", \"shx\", \"qbz\", \"vcj\", \"lpg\", \"qjz\", \"qkr\", \"sth\", \"nxn\", \"vxk\", \"jch\", \"tbd\", \"jtv\", \"mdp\", \"cgz\", \"zgc\", \"bbg\", \"mhc\", \"cvl\", \"kdm\", \"vqv\", \"rzr\", \"skh\", \"xlf\", \"hjv\", \"cvb\", \"zzs\", \"kgm\", \"cmj\", \"cnl\", \"tzb\", \"bql\", \"hhj\", \"rlv\", \"jrq\", \"zcx\", \"lrb\", \"tkm\", \"dcx\", \"xrb\", \"lcv\", \"dml\", \"zkc\", \"bqg\", \"zmx\", \"qph\", \"fpl\", \"mcn\", \"bdm\", \"rdj\", \"zvq\", \"kgq\", \"gxq\", \"flb\", \"vzr\", \"zqp\", \"nvz\", \"qvx\", \"qsk\", \"zsk\", \"sqp\", \"hds\", \"hnj\", \"tgt\", \"vsr\", \"zrq\", \"grt\", \"jrm\", \"fpr\", \"tzc\", \"dpc\", \"lqm\", \"stm\", \"kpt\", \"prf\", \"dhs\", \"hcd\", \"pbv\", \"sqd\", \"rsk\", \"kjz\", \"xhn\", \"nrz\", \"gsn\", \"pbp\", \"zbz\", \"ttn\", \"svx\", \"gcx\", \"vfd\", \"vdx\", \"gjq\", \"zlb\", \"vdv\", \"krs\", \"pgr\", \"qdr\", \"zfq\", \"rhp\", \"mqm\", \"vpx\", \"rks\", \"mdv\", \"bcz\", \"hrq\", \"zvm\", \"gxx\", \"rhz\", \"qxm\", \"ndh\", \"pjl\", \"tsj\", \"mrh\", \"psr\", \"rnq\", \"ssn\", \"pds\", \"pmf\", \"cnh\", \"zfk\", \"vvt\", \"rcp\", \"fhb\", \"jvn\", \"rqm\", \"sdv\", \"knh\", \"gbg\", \"skt\", \"npf\", \"fqn\", \"gpd\", \"vtq\", \"mnd\", \"dkg\", \"gxm\", \"pfm\", \"ncd\", \"drz\", \"vxt\", \"vbz\", \"tbn\", \"xjr\", \"cnk\", \"tch\", \"vrc\", \"spj\", \"cmg\", \"bzh\", \"mld\", \"jxd\", \"krz\", \"hll\", \"qfs\", \"xmm\", \"rbq\", \"cfd\", \"ssf\", \"vjj\", \"pnh\", \"qfr\", \"dmh\", \"jds\", \"dzb\", \"jxf\", \"ktr\", \"qzn\", \"frr\", \"gqc\", \"ldg\", \"dxr\", \"cnn\", \"ghh\", \"bbk\", \"skm\", \"tff\", \"zrh\", \"bff\", \"drl\", \"czz\", \"hqh\"]"
   ]
  },
  {
   "cell_type": "code",
   "execution_count": 11,
   "id": "ef907064-aa98-4208-80c0-77a2f4fef356",
   "metadata": {},
   "outputs": [
    {
     "data": {
      "text/plain": [
       "True"
      ]
     },
     "execution_count": 11,
     "metadata": {},
     "output_type": "execute_result"
    }
   ],
   "source": [
    "\"dfk\" in x"
   ]
  },
  {
   "cell_type": "code",
   "execution_count": 13,
   "id": "edd5dbd4-86f6-4952-a748-0e0dbaf9bf01",
   "metadata": {},
   "outputs": [
    {
     "data": {
      "text/plain": [
       "761"
      ]
     },
     "execution_count": 13,
     "metadata": {},
     "output_type": "execute_result"
    }
   ],
   "source": [
    "len(x)\n"
   ]
  },
  {
   "cell_type": "code",
   "execution_count": 4,
   "id": "3934df6e-17fa-4566-ab73-50ecd430134c",
   "metadata": {},
   "outputs": [
    {
     "data": {
      "text/plain": [
       "1475"
      ]
     },
     "execution_count": 4,
     "metadata": {},
     "output_type": "execute_result"
    }
   ],
   "source": [
    "999+476"
   ]
  },
  {
   "cell_type": "code",
   "execution_count": 5,
   "id": "1bee5ee0-307a-464f-8116-4c0ada9bfec4",
   "metadata": {},
   "outputs": [
    {
     "data": {
      "text/plain": [
       "476046"
      ]
     },
     "execution_count": 5,
     "metadata": {},
     "output_type": "execute_result"
    }
   ],
   "source": [
    "477*998"
   ]
  },
  {
   "cell_type": "code",
   "execution_count": null,
   "id": "30983681-ca35-44fa-9afc-780455597826",
   "metadata": {},
   "outputs": [],
   "source": []
  }
 ],
 "metadata": {
  "kernelspec": {
   "display_name": "Python 3 (ipykernel)",
   "language": "python",
   "name": "python3"
  },
  "language_info": {
   "codemirror_mode": {
    "name": "ipython",
    "version": 3
   },
   "file_extension": ".py",
   "mimetype": "text/x-python",
   "name": "python",
   "nbconvert_exporter": "python",
   "pygments_lexer": "ipython3",
   "version": "3.10.9"
  }
 },
 "nbformat": 4,
 "nbformat_minor": 5
}
