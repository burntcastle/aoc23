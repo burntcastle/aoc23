{
 "cells": [
  {
   "cell_type": "code",
   "execution_count": 1,
   "id": "4bdf70b2-d12f-4b6c-b4e9-5712cab34127",
   "metadata": {},
   "outputs": [],
   "source": [
    "from heapq import heappush, heappop"
   ]
  },
  {
   "cell_type": "code",
   "execution_count": 2,
   "id": "9eef9220-a461-4ec7-aee2-f8b6d03be1bb",
   "metadata": {},
   "outputs": [],
   "source": [
    "from heapq import heappush, heappop\n",
    "\n",
    "with open('inputs/17') as fh:\n",
    "    puzzle = fh.read()\n",
    "\n"
   ]
  },
  {
   "cell_type": "code",
   "execution_count": 8,
   "id": "d69f797e-132f-465d-9303-21867888cbfb",
   "metadata": {},
   "outputs": [],
   "source": [
    "def parse_puzzle(data):\n",
    "    D = {}\n",
    "    for r, line in enumerate(data.splitlines()):\n",
    "        for c, char in enumerate(line):\n",
    "            p = c - r * 1j\n",
    "            D[p] = int(char)\n",
    "    return D, p\n",
    "\n",
    "grid, dest = parse_puzzle(puzzle)\n",
    "len(grid), dest, grid[dest]\n",
    "\n",
    "def c2t(c):\n",
    "    return int(c.real), int(c.imag)\n",
    "\n",
    "def t2c(t):\n",
    "    return complex(*t)"
   ]
  },
  {
   "cell_type": "code",
   "execution_count": 12,
   "id": "efc95f26-f7af-44ef-a71c-5a616ccfeeba",
   "metadata": {},
   "outputs": [
    {
     "name": "stdout",
     "output_type": "stream",
     "text": [
      "771\n",
      "930\n"
     ]
    }
   ],
   "source": [
    "from heapq import heappop, heappush\n",
    "ll = [[int(y) for y in x] for x in open('inputs/17').read().strip().split('\\n')]\n",
    "DIRS = [(0, 1), (1, 0), (0, -1), (-1, 0)]\n",
    "def inr(pos, arr):\n",
    "\treturn pos[0] in range(len(arr)) and pos[1] in range(len(arr[0]))\n",
    "def run(mindist, maxdist):\n",
    "\t# cost, x, y, disallowedDirection\n",
    "\tq = [(0, 0, 0, -1)]\n",
    "\tseen = set()\n",
    "\tcosts = {}\n",
    "\twhile q:\n",
    "\t\tcost, x, y, dd = heappop(q)\n",
    "\t\tif x == len(ll) - 1 and y == len(ll[0]) - 1: # goal x, goal y\n",
    "\t\t\treturn cost\n",
    "\t\tif (x, y, dd) in seen:\n",
    "\t\t\tcontinue\n",
    "\t\tseen.add((x, y, dd))\n",
    "\t\tfor direction in range(4):\n",
    "\t\t\tcostincrease = 0\n",
    "\t\t\tif direction == dd or (direction + 2) % 4 == dd:\n",
    "\t\t\t\t# can't go this way\n",
    "\t\t\t\tcontinue\n",
    "\t\t\tfor distance in range(1, maxdist + 1):\n",
    "\t\t\t\txx = x + DIRS[direction][0] * distance\n",
    "\t\t\t\tyy = y + DIRS[direction][1] * distance\n",
    "\t\t\t\tif inr((xx, yy), ll):\n",
    "\t\t\t\t\tcostincrease += ll[xx][yy]\n",
    "\t\t\t\t\tif distance < mindist:\n",
    "\t\t\t\t\t\tcontinue\n",
    "\t\t\t\t\tnc = cost + costincrease\n",
    "\t\t\t\t\tif costs.get((xx, yy, direction), 1e100) <= nc:\n",
    "\t\t\t\t\t\tcontinue\n",
    "\t\t\t\t\tcosts[(xx, yy, direction)] = nc\n",
    "\t\t\t\t\theappush(q, (nc, xx, yy, direction))\n",
    "\n",
    "print(run(1, 3))\n",
    "print(run(4, 10))"
   ]
  },
  {
   "cell_type": "code",
   "execution_count": 10,
   "id": "3d653e24-e78b-4adf-9e68-92bc0f6fcde7",
   "metadata": {},
   "outputs": [
    {
     "name": "stdout",
     "output_type": "stream",
     "text": [
      "CPU times: user 2.92 s, sys: 9.79 ms, total: 2.92 s\n",
      "Wall time: 2.92 s\n"
     ]
    },
    {
     "data": {
      "text/plain": [
       "930"
      ]
     },
     "execution_count": 10,
     "metadata": {},
     "output_type": "execute_result"
    }
   ],
   "source": [
    "\n",
    "\n",
    "%%time\n",
    "ultra_minimum_heat_loss(puzzle)\n",
    "\n"
   ]
  },
  {
   "cell_type": "code",
   "execution_count": null,
   "id": "dc298704-6110-4cc7-8b71-924cbff21620",
   "metadata": {},
   "outputs": [],
   "source": []
  }
 ],
 "metadata": {
  "kernelspec": {
   "display_name": "Python 3 (ipykernel)",
   "language": "python",
   "name": "python3"
  },
  "language_info": {
   "codemirror_mode": {
    "name": "ipython",
    "version": 3
   },
   "file_extension": ".py",
   "mimetype": "text/x-python",
   "name": "python",
   "nbconvert_exporter": "python",
   "pygments_lexer": "ipython3",
   "version": "3.10.9"
  }
 },
 "nbformat": 4,
 "nbformat_minor": 5
}
