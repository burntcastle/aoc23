{
 "cells": [
  {
   "cell_type": "code",
   "execution_count": 20,
   "id": "02960a5e-d5f3-4987-8117-9fe1ab422600",
   "metadata": {
    "vscode": {
     "languageId": "rust"
    }
   },
   "outputs": [],
   "source": [
    "let mut x  = vec![1,2,3,4,5];\n",
    "let y = vec![9,8,7,6];"
   ]
  }
 ],
 "metadata": {
  "kernelspec": {
   "display_name": "Rust",
   "language": "rust",
   "name": "rust"
  },
  "language_info": {
   "codemirror_mode": "rust",
   "file_extension": ".rs",
   "mimetype": "text/rust",
   "name": "Rust",
   "pygment_lexer": "rust",
   "version": ""
  }
 },
 "nbformat": 4,
 "nbformat_minor": 5
}
