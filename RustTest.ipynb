{
 "cells": [
  {
   "cell_type": "code",
   "execution_count": 20,
   "id": "02960a5e-d5f3-4987-8117-9fe1ab422600",
   "metadata": {},
   "outputs": [],
   "source": [
    "let mut x  = vec![1,2,3,4,5];\n",
    "let y = vec![9,8,7,6];"
   ]
  },
  {
   "cell_type": "code",
   "execution_count": 21,
   "id": "f11fef99-40b7-4deb-92ec-819372627f96",
   "metadata": {},
   "outputs": [],
   "source": [
    "x.extend(y);"
   ]
  },
  {
   "cell_type": "code",
   "execution_count": 22,
   "id": "2c933bcb-c19e-4e01-85f8-6d9230909f96",
   "metadata": {},
   "outputs": [
    {
     "data": {
      "text/plain": [
       "[1, 2, 3, 4, 5, 9, 8, 7, 6]"
      ]
     },
     "execution_count": 22,
     "metadata": {},
     "output_type": "execute_result"
    }
   ],
   "source": [
    "x"
   ]
  },
  {
   "cell_type": "code",
   "execution_count": 23,
   "id": "97d42e74-5db6-4d08-91d3-4e09d2c3f070",
   "metadata": {},
   "outputs": [
    {
     "ename": "Error",
     "evalue": "unresolved import `itertools`",
     "output_type": "error",
     "traceback": [
      "\u001b[31m[E0432] Error:\u001b[0m unresolved import `itertools`"
     ]
    }
   ],
   "source": [
    "fn sample(prefix: Vec<i32>, it: Vec<i32>, depth:i32) ->Vec<Vec<i32>>{\n",
    "let \n",
    "    foreach item in it{\n",
    "        \n",
    "    }\n",
    "\n",
    "}"
   ]
  },
  {
   "cell_type": "code",
   "execution_count": 28,
   "id": "b5cebe3e-457c-4caf-8d80-148fc60e59ed",
   "metadata": {},
   "outputs": [],
   "source": [
    "let sub = 1..6;\n",
    "let other = 2..4;"
   ]
  },
  {
   "cell_type": "code",
   "execution_count": 30,
   "id": "b8c95d2a-6fbe-458e-ad42-a983a5ba09ba",
   "metadata": {},
   "outputs": [
    {
     "ename": "Error",
     "evalue": "mismatched types",
     "output_type": "error",
     "traceback": [
      "\u001b[31m[E0308] Error:\u001b[0m mismatched types",
      "   \u001b[38;5;246m╭\u001b[0m\u001b[38;5;246m─\u001b[0m\u001b[38;5;246m[\u001b[0mcommand_30:1:1\u001b[38;5;246m]\u001b[0m",
      "   \u001b[38;5;246m│\u001b[0m",
      " \u001b[38;5;246m1 │\u001b[0m \u001b[38;5;249ms\u001b[0m\u001b[38;5;249mu\u001b[0m\u001b[38;5;249mb\u001b[0m\u001b[38;5;249m.\u001b[0m\u001b[38;5;100mc\u001b[0m\u001b[38;5;100mo\u001b[0m\u001b[38;5;100mn\u001b[0m\u001b[38;5;100mt\u001b[0m\u001b[38;5;100ma\u001b[0m\u001b[38;5;100mi\u001b[0m\u001b[38;5;100mn\u001b[0m\u001b[38;5;100ms\u001b[0m\u001b[38;5;249m(\u001b[0m\u001b[38;5;54mo\u001b[0m\u001b[38;5;54mt\u001b[0m\u001b[38;5;54mh\u001b[0m\u001b[38;5;54me\u001b[0m\u001b[38;5;54mr\u001b[0m\u001b[38;5;249m)\u001b[0m\u001b[38;5;249m;\u001b[0m",
      " \u001b[38;5;246m  ·\u001b[0m     \u001b[38;5;100m─\u001b[0m\u001b[38;5;100m─\u001b[0m\u001b[38;5;100m─\u001b[0m\u001b[38;5;100m─\u001b[0m\u001b[38;5;100m┬\u001b[0m\u001b[38;5;100m─\u001b[0m\u001b[38;5;100m─\u001b[0m\u001b[38;5;100m─\u001b[0m \u001b[38;5;54m─\u001b[0m\u001b[38;5;54m─\u001b[0m\u001b[38;5;54m┬\u001b[0m\u001b[38;5;54m─\u001b[0m\u001b[38;5;54m─\u001b[0m  ",
      " \u001b[38;5;246m  ·\u001b[0m         \u001b[38;5;100m╰\u001b[0m\u001b[38;5;100m─\u001b[0m\u001b[38;5;100m─\u001b[0m\u001b[38;5;100m─\u001b[0m\u001b[38;5;100m─\u001b[0m\u001b[38;5;100m─\u001b[0m\u001b[38;5;100m─\u001b[0m\u001b[38;5;100m─\u001b[0m\u001b[38;5;100m─\u001b[0m\u001b[38;5;100m─\u001b[0m\u001b[38;5;100m─\u001b[0m\u001b[38;5;100m─\u001b[0m arguments to this method are incorrect",
      " \u001b[38;5;246m  ·\u001b[0m                \u001b[38;5;54m│\u001b[0m    ",
      " \u001b[38;5;246m  ·\u001b[0m                \u001b[38;5;54m╰\u001b[0m\u001b[38;5;54m─\u001b[0m\u001b[38;5;54m─\u001b[0m\u001b[38;5;54m─\u001b[0m\u001b[38;5;54m─\u001b[0m expected `&i32`, found `Range<i32>`",
      " \u001b[38;5;246m  ·\u001b[0m ",
      " \u001b[38;5;246m  ·\u001b[0m \u001b[38;5;115mNote\u001b[0m: note: method defined here",
      "\u001b[38;5;246m───╯\u001b[0m"
     ]
    }
   ],
   "source": [
    "sub.contains(other);"
   ]
  },
  {
   "cell_type": "code",
   "execution_count": 39,
   "id": "8df5097c-565e-428e-ae30-674a7f3d8860",
   "metadata": {},
   "outputs": [],
   "source": [
    "let y = sub.contains(&other.start) && sub.contains(&other.end);"
   ]
  },
  {
   "cell_type": "code",
   "execution_count": 40,
   "id": "2659a6d5-ff10-4564-9ba7-7ddc86718f28",
   "metadata": {},
   "outputs": [
    {
     "data": {
      "text/plain": [
       "true"
      ]
     },
     "execution_count": 40,
     "metadata": {},
     "output_type": "execute_result"
    }
   ],
   "source": [
    "y"
   ]
  },
  {
   "cell_type": "code",
   "execution_count": null,
   "id": "90a0aa34-4c3d-47ea-a39d-1e42980e97c8",
   "metadata": {},
   "outputs": [],
   "source": []
  }
 ],
 "metadata": {
  "kernelspec": {
   "display_name": "Rust",
   "language": "rust",
   "name": "rust"
  },
  "language_info": {
   "codemirror_mode": "rust",
   "file_extension": ".rs",
   "mimetype": "text/rust",
   "name": "Rust",
   "pygment_lexer": "rust",
   "version": ""
  }
 },
 "nbformat": 4,
 "nbformat_minor": 5
}
