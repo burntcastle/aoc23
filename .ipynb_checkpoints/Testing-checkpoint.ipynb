{
 "cells": [
  {
   "cell_type": "code",
   "execution_count": 1,
   "id": "4bdf70b2-d12f-4b6c-b4e9-5712cab34127",
   "metadata": {},
   "outputs": [],
   "source": [
    "from heapq import heappush, heappop"
   ]
  },
  {
   "cell_type": "code",
   "execution_count": 2,
   "id": "9eef9220-a461-4ec7-aee2-f8b6d03be1bb",
   "metadata": {},
   "outputs": [],
   "source": [
    "from heapq import heappush, heappop\n",
    "\n",
    "with open('inputs/17') as fh:\n",
    "    puzzle = fh.read()\n",
    "\n"
   ]
  },
  {
   "cell_type": "code",
   "execution_count": 4,
   "id": "d69f797e-132f-465d-9303-21867888cbfb",
   "metadata": {},
   "outputs": [
    {
     "ename": "NameError",
     "evalue": "name 'testdata' is not defined",
     "output_type": "error",
     "traceback": [
      "\u001b[0;31m---------------------------------------------------------------------------\u001b[0m",
      "\u001b[0;31mNameError\u001b[0m                                 Traceback (most recent call last)",
      "Cell \u001b[0;32mIn[4], line 11\u001b[0m\n\u001b[1;32m      6\u001b[0m             D[p] \u001b[38;5;241m=\u001b[39m \u001b[38;5;28mint\u001b[39m(char)\n\u001b[1;32m      7\u001b[0m     \u001b[38;5;28;01mreturn\u001b[39;00m D, p\n\u001b[0;32m---> 11\u001b[0m grid, dest \u001b[38;5;241m=\u001b[39m parse_puzzle(\u001b[43mtestdata\u001b[49m)\n\u001b[1;32m     13\u001b[0m \u001b[38;5;28mlen\u001b[39m(grid), dest, grid[dest]\n",
      "\u001b[0;31mNameError\u001b[0m: name 'testdata' is not defined"
     ]
    }
   ],
   "source": [
    "def parse_puzzle(data):\n",
    "    D = {}\n",
    "    for r, line in enumerate(data.splitlines()):\n",
    "        for c, char in enumerate(line):\n",
    "            p = c - r * 1j\n",
    "            D[p] = int(char)\n",
    "    return D, p\n",
    "\n",
    "grid, dest = parse_puzzle(testdata)\n",
    "len(grid), dest, grid[dest]"
   ]
  },
  {
   "cell_type": "code",
   "execution_count": null,
   "id": "efc95f26-f7af-44ef-a71c-5a616ccfeeba",
   "metadata": {},
   "outputs": [],
   "source": []
  }
 ],
 "metadata": {
  "kernelspec": {
   "display_name": "Python 3 (ipykernel)",
   "language": "python",
   "name": "python3"
  },
  "language_info": {
   "codemirror_mode": {
    "name": "ipython",
    "version": 3
   },
   "file_extension": ".py",
   "mimetype": "text/x-python",
   "name": "python",
   "nbconvert_exporter": "python",
   "pygments_lexer": "ipython3",
   "version": "3.10.9"
  }
 },
 "nbformat": 4,
 "nbformat_minor": 5
}
